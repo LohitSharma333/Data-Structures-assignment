{
  "nbformat": 4,
  "nbformat_minor": 0,
  "metadata": {
    "colab": {
      "provenance": []
    },
    "kernelspec": {
      "name": "python3",
      "display_name": "Python 3"
    },
    "language_info": {
      "name": "python"
    }
  },
  "cells": [
    {
      "cell_type": "markdown",
      "source": [
        "Q. What are data structures, and why are they important?\n",
        "- Data structures are specialized formats for organizing, storing, and accessing collections of data. They provide efficient ways to manage information based on its characteristics and intended use.\n",
        "- Importance:\n",
        "- Choosing the right data structure significantly impacts the efficiency and performance of your program.\n",
        "- Well-chosen data structures can:\n",
        "- Simplify data manipulation (adding, removing, modifying elements)\n",
        "- Optimize searching and sorting operations\n",
        "- Conserve memory usage"
      ],
      "metadata": {
        "id": "Gma-KG_C7Mzm"
      }
    },
    {
      "cell_type": "markdown",
      "source": [
        "Q.Explain the difference between mutable and immutable data types with examples.\n",
        "- Mutable Data Types\n",
        "Definition: Objects whose values can be modified after creation.\n",
        "Examples: Lists, Sets, Dictionaries.\n",
        "- Immutable Data Types\n",
        "Definition: Objects whose values cannot be changed after creation.\n",
        "Examples: Strings, Tuples, Integers, Floating-point numbers."
      ],
      "metadata": {
        "id": "IiH7vrSQ8R_i"
      }
    },
    {
      "cell_type": "markdown",
      "source": [
        "Q. What are the main differences between lists and tuples in Python?\n",
        "- The main difference between lists and tuples is that lists are of mutable type(i.e. their elements can be changed after creation), whereas tuples are of immutable type(i.e. their elements cannot be changed after creation)."
      ],
      "metadata": {
        "id": "XNfR2jsIGf2S"
      }
    },
    {
      "cell_type": "markdown",
      "source": [
        "Q. Describe how dictionaries store data?\n",
        "- A dictionary in Python is a collection of key-value pairs, where each key maps to a specific value. Unlike lists and tuples, which use numerical indexing, dictionaries allow fast lookups using unique keys.\n"
      ],
      "metadata": {
        "id": "SaXC9KtJHYC8"
      }
    },
    {
      "cell_type": "markdown",
      "source": [
        "Q. Why might you use a set instead of a list in Python?\n",
        "- We might use a set instead of list in python if we  don't need repititve data items in the given data because sets takes takes only one unique items  and discards all other coipies of it."
      ],
      "metadata": {
        "id": "N6nE53JSIF32"
      }
    },
    {
      "cell_type": "markdown",
      "source": [
        "Q.What is a string in Python, and how is it different from a list?\n",
        "- String in a python is a data type which we generally use to store data in form of sentences. Strings are of immutable type and can't be changed after bring created , whereas lists are a type of data structure in python which can store any type of data in form of different elements within itself also lists are mutable."
      ],
      "metadata": {
        "id": "Gn762h3WIzxn"
      }
    },
    {
      "cell_type": "markdown",
      "source": [
        "Q. How do tuples ensure data integrity in Python?\n",
        "- Since tuples are immutable data structures i.e. tuples cannot be changed or modified after being created hence the data in tuples are more safe and integrated than other data types."
      ],
      "metadata": {
        "id": "-bYbvxwDJ46A"
      }
    },
    {
      "cell_type": "markdown",
      "source": [
        "Q.What is a hash table, and how does it relate to dictionaries in Python?\n",
        "-  A hash table is a data structure that stores key-value pairs and provides fast lookup, insertion, and deletion using a process called hashing. In Python, dictionaries (dict) are implemented using hash tables internally."
      ],
      "metadata": {
        "id": "bPPWVzY-KbIZ"
      }
    },
    {
      "cell_type": "markdown",
      "source": [
        "Q. Can lists contain different data types in Python?\n",
        "- Yes, lists can contains any data types such as string ,flaot,integers,complex numbers, boolean values and not only data types lists can contain any dat structure in it such as sets,tuples,dictionaries, and lists iteself."
      ],
      "metadata": {
        "id": "iXUTTSRLLJq6"
      }
    },
    {
      "cell_type": "markdown",
      "source": [
        "Q. Explain why strings are immutable in Python?\n",
        "- Strings in Python are immutable, meaning they cannot be modified after creation. If we attempt to change a string, Python creates a new string object instead of modifying the original one."
      ],
      "metadata": {
        "id": "-O0dgleULsDZ"
      }
    },
    {
      "cell_type": "markdown",
      "source": [
        "Q. What advantages do dictionaries offer over lists for certain tasks?\n",
        "- Dictionaries (dict) offer several advantages over lists (list) in Python, especially when fast lookups, unique key-value storage, and structured data management are required."
      ],
      "metadata": {
        "id": "02tBKExnMhoi"
      }
    },
    {
      "cell_type": "markdown",
      "source": [
        "Q. Describe a scenario where using a tuple would be preferable over a list?\n",
        "- Let take a scenario where we are storing bank account numbers of certain customers in this scenario we may use tuples as we cannot change the bank account numbers of the customers and since tuples are immutable thats why we would like to go with tuples."
      ],
      "metadata": {
        "id": "MnHQeB10NXzl"
      }
    },
    {
      "cell_type": "markdown",
      "source": [
        "Q. How do sets handle duplicate values in Python?\n",
        "- In Python, sets automatically discard duplicate values because they are unordered collections of unique elements. When you add duplicate values to a set, Python keeps only one instance of each unique value."
      ],
      "metadata": {
        "id": "6Ep-NpLbN4vS"
      }
    },
    {
      "cell_type": "markdown",
      "source": [
        "Q. How does the “in” keyword work differently for lists and dictionaries?\n",
        "- In both lists and dict the in keyword is used as a membership operators but in lists it checks the certain values are presents in a list whereas in dict it checks for the keys present in the dict."
      ],
      "metadata": {
        "id": "c7W_R2qyORXo"
      }
    },
    {
      "cell_type": "markdown",
      "source": [
        "Q. Can you modify the elements of a tuple? Explain why or why not?\n",
        "- No, you cannot modify the elements of a tuple in Python because tuples are immutable. This means once a tuple is created, its elements cannot be changed, added, or removed."
      ],
      "metadata": {
        "id": "t3VKz_9EO74M"
      }
    },
    {
      "cell_type": "markdown",
      "source": [
        "Q. What is a nested dictionary, and give an example of its use case?\n",
        "- Nested dictionary means if we give any value in the dictionary coreesponding to key again as a dictionary itself. A use case for this is to define keys as years in a dict and give corresponding values to these keys a s a dict containing the car models and units sold."
      ],
      "metadata": {
        "id": "u28lzhCDPXIU"
      }
    },
    {
      "cell_type": "markdown",
      "source": [
        "Q. Describe the time complexity of accessing elements in a dictionary?\n",
        "- The time complexity of accessing elements in a dictionary (dict) in Python is O(1) on average and O(n) in the worst case."
      ],
      "metadata": {
        "id": "-08PGxq7P54B"
      }
    },
    {
      "cell_type": "markdown",
      "source": [
        "Q. In what situations are lists preferred over dictionaries?\n",
        "- Lists are preferred over dictionaries when ordered storage, indexed access, and efficient iteration are required. They use less memory and allow fast appends (O(1)). Lists are better for sequential access and support duplicate values. If key-based lookups are not needed, lists are a simpler choice."
      ],
      "metadata": {
        "id": "YCZvB8tUQMnw"
      }
    },
    {
      "cell_type": "markdown",
      "source": [
        "Q. Why are dictionaries considered unordered, and how does that affect data retrieval?\n",
        "-Dictionaries were historically considered unordered because they used hash tables for storage, where elements were placed based on hash values rather than insertion order. Before Python 3.7, retrieving elements could return them in an arbitrary sequence. Since Python 3.7+, dictionaries preserve insertion order, but they still do not support index-based access like lists, requiring key-based lookups instead.\n"
      ],
      "metadata": {
        "id": "GNZOwIqpTF9v"
      }
    },
    {
      "cell_type": "markdown",
      "source": [
        "Q. Explain the difference between a list and a dictionary in terms of data retrieval.\n",
        "- A list retrieves data using index-based access (O(1)), meaning elements are accessed by their position (e.g., list[2]). A dictionary, however, retrieves data using key-based access (O(1) on average), meaning elements are found by their unique keys (e.g., dict['name']). Lists support sequential lookups, while dictionaries offer faster lookups for specific values but do not allow direct indexing."
      ],
      "metadata": {
        "id": "j_sk-skSTN1c"
      }
    },
    {
      "cell_type": "markdown",
      "source": [],
      "metadata": {
        "id": "JkoT3FGWJ1Aq"
      }
    },
    {
      "cell_type": "code",
      "source": [
        "#Q Write a code to create a string with your name and print it.\n",
        "name=\"Lohit Sharma\"\n",
        "print(name)"
      ],
      "metadata": {
        "colab": {
          "base_uri": "https://localhost:8080/"
        },
        "id": "g4J6BFGNTbZg",
        "outputId": "9383b92c-185a-4646-b809-835ee57e2050"
      },
      "execution_count": 1,
      "outputs": [
        {
          "output_type": "stream",
          "name": "stdout",
          "text": [
            "Lohit Sharma\n"
          ]
        }
      ]
    },
    {
      "cell_type": "code",
      "source": [
        "#Q Write a code to find the length of the string \"Hello World\".\n",
        "string=\"Hello World\"\n",
        "print(f\"Length of {string} is {len(string)}\")"
      ],
      "metadata": {
        "colab": {
          "base_uri": "https://localhost:8080/"
        },
        "id": "cQGyZU5fbswG",
        "outputId": "490c7763-386d-41ed-926b-bbef0956a765"
      },
      "execution_count": 2,
      "outputs": [
        {
          "output_type": "stream",
          "name": "stdout",
          "text": [
            "Length of Hello World is 11\n"
          ]
        }
      ]
    },
    {
      "cell_type": "code",
      "source": [
        "#Q Write a code to slice the first 3 characters from the string \"Python Programming\".\n",
        "string=\"Python Programming\"\n",
        "print(string[:3])"
      ],
      "metadata": {
        "colab": {
          "base_uri": "https://localhost:8080/"
        },
        "id": "vmyfEX-3b8lJ",
        "outputId": "8c55ae64-c8bd-4ffc-d859-7e17d62c336c"
      },
      "execution_count": 3,
      "outputs": [
        {
          "output_type": "stream",
          "name": "stdout",
          "text": [
            "Pyt\n"
          ]
        }
      ]
    },
    {
      "cell_type": "code",
      "source": [
        "#Q Write a code to convert the string \"hello\" to uppercase.\n",
        "print(\"hello\".upper())"
      ],
      "metadata": {
        "colab": {
          "base_uri": "https://localhost:8080/"
        },
        "id": "ikYu5RFkcIcX",
        "outputId": "3f9eb2f9-43d4-45c3-d771-fbeea10a2969"
      },
      "execution_count": 4,
      "outputs": [
        {
          "output_type": "stream",
          "name": "stdout",
          "text": [
            "HELLO\n"
          ]
        }
      ]
    },
    {
      "cell_type": "code",
      "source": [
        "#Q Write a code to replace the word \"apple\" with \"orange\" in the string \"I like apple\".\n",
        "string=\"I like apple.\"\n",
        "print(string.replace(\"apple\",\"orange\"))"
      ],
      "metadata": {
        "colab": {
          "base_uri": "https://localhost:8080/"
        },
        "id": "pf0dTYAbcTSr",
        "outputId": "435d5468-f9d7-4f40-b69e-6fce7cfcaeb4"
      },
      "execution_count": 9,
      "outputs": [
        {
          "output_type": "stream",
          "name": "stdout",
          "text": [
            "I like orange.\n"
          ]
        }
      ]
    },
    {
      "cell_type": "code",
      "source": [
        "#Q Write a code to create a list with numbers 1 to 5 and print it.\n",
        "list1_5=list(range(1,6))\n",
        "print(list1_5)"
      ],
      "metadata": {
        "colab": {
          "base_uri": "https://localhost:8080/"
        },
        "id": "U8VrpweGcrpN",
        "outputId": "57aa0375-a101-435a-9ad0-50fdd50326a6"
      },
      "execution_count": 11,
      "outputs": [
        {
          "output_type": "stream",
          "name": "stdout",
          "text": [
            "[1, 2, 3, 4, 5]\n"
          ]
        }
      ]
    },
    {
      "cell_type": "code",
      "source": [
        "#Q. Write a code to append the number 10 to the list [1, 2, 3, 4].\n",
        "lst=[1,2,3,4]\n",
        "lst.append(10)\n",
        "print(lst)\n"
      ],
      "metadata": {
        "colab": {
          "base_uri": "https://localhost:8080/"
        },
        "id": "BGEtDJ-0c-Qx",
        "outputId": "26f7cfd8-0f30-44fc-abab-ccc0eee9aff5"
      },
      "execution_count": 12,
      "outputs": [
        {
          "output_type": "stream",
          "name": "stdout",
          "text": [
            "[1, 2, 3, 4, 10]\n"
          ]
        }
      ]
    },
    {
      "cell_type": "code",
      "source": [
        "#Q. Write a code to remove the number 3 from the list [1, 2, 3, 4, 5].\n",
        "lst=[1,2,3,4,5]\n",
        "lst.remove(3)\n",
        "print(lst)"
      ],
      "metadata": {
        "colab": {
          "base_uri": "https://localhost:8080/"
        },
        "id": "BRUFtlSPdOME",
        "outputId": "ce7eff2c-1e09-47c7-9b93-78c93d6e2b2a"
      },
      "execution_count": 13,
      "outputs": [
        {
          "output_type": "stream",
          "name": "stdout",
          "text": [
            "[1, 2, 4, 5]\n"
          ]
        }
      ]
    },
    {
      "cell_type": "code",
      "source": [
        "#Q. Write a code to access the second element in the list ['a', 'b', 'c', 'd'].\n",
        "lst=['a', 'b', 'c', 'd']\n",
        "print(lst[1])"
      ],
      "metadata": {
        "colab": {
          "base_uri": "https://localhost:8080/"
        },
        "id": "eAY6NrcPdctS",
        "outputId": "3dca2d06-df72-4639-ce4b-d4466eb62e42"
      },
      "execution_count": 14,
      "outputs": [
        {
          "output_type": "stream",
          "name": "stdout",
          "text": [
            "b\n"
          ]
        }
      ]
    },
    {
      "cell_type": "code",
      "source": [
        "#Q. Write a code to reverse the list [10, 20, 30, 40, 50].\n",
        "lst=[10, 20, 30, 40, 50]\n",
        "lst.reverse()\n",
        "print(lst)"
      ],
      "metadata": {
        "colab": {
          "base_uri": "https://localhost:8080/"
        },
        "id": "UPioiGQQdmqR",
        "outputId": "2a2331fd-37e8-4b8d-fbb7-0f9fe7ba1dea"
      },
      "execution_count": 15,
      "outputs": [
        {
          "output_type": "stream",
          "name": "stdout",
          "text": [
            "[50, 40, 30, 20, 10]\n"
          ]
        }
      ]
    },
    {
      "cell_type": "code",
      "source": [
        "#!. . Write a code to create a tuple with the elements 100, 200, 300 and print it.\n",
        "tup=(100,200,300)\n",
        "print(tup)"
      ],
      "metadata": {
        "colab": {
          "base_uri": "https://localhost:8080/"
        },
        "id": "cL5TO42edv3r",
        "outputId": "d31fd834-3614-402d-d942-a9c87bd29a1b"
      },
      "execution_count": 18,
      "outputs": [
        {
          "output_type": "stream",
          "name": "stdout",
          "text": [
            "(100, 200, 300)\n"
          ]
        }
      ]
    },
    {
      "cell_type": "code",
      "source": [
        "#Q. Write a code to access the second-to-last element of the tuple ('red', 'green', 'blue', 'yellow').\n",
        "tup=('red', 'green', 'blue', 'yellow')\n",
        "print(tup[-2])\n"
      ],
      "metadata": {
        "colab": {
          "base_uri": "https://localhost:8080/"
        },
        "id": "1nGwoE1ed9OL",
        "outputId": "a677821a-203c-4299-c605-ad4b4eb99633"
      },
      "execution_count": 20,
      "outputs": [
        {
          "output_type": "stream",
          "name": "stdout",
          "text": [
            "blue\n"
          ]
        }
      ]
    },
    {
      "cell_type": "code",
      "source": [
        "#Q.  Write a code to find the minimum number in the tuple (10, 20, 5, 15).\n",
        "tup=(10, 20, 5, 15)\n",
        "print(f'minimum of {tup} is {min(tup)}')"
      ],
      "metadata": {
        "colab": {
          "base_uri": "https://localhost:8080/"
        },
        "id": "wOrtxYBNeIW8",
        "outputId": "7021873f-2e67-46e3-d5f7-68e70ca3eded"
      },
      "execution_count": 21,
      "outputs": [
        {
          "output_type": "stream",
          "name": "stdout",
          "text": [
            "minimum of (10, 20, 5, 15) is 5\n"
          ]
        }
      ]
    },
    {
      "cell_type": "code",
      "source": [
        "#Q.  Write a code to find the index of the element \"cat\" in the tuple ('dog', 'cat', 'rabbit').\n",
        "tup=('dog', 'cat', 'rabbit')\n",
        "print(tup.index('cat'))"
      ],
      "metadata": {
        "colab": {
          "base_uri": "https://localhost:8080/"
        },
        "id": "X16pBZereWx4",
        "outputId": "b5eb8782-6993-4ed0-d236-94038364b348"
      },
      "execution_count": 22,
      "outputs": [
        {
          "output_type": "stream",
          "name": "stdout",
          "text": [
            "1\n"
          ]
        }
      ]
    },
    {
      "cell_type": "code",
      "source": [
        "#Q. Write a code to create a tuple containing three different fruits and check if \"kiwi\" is in it\n",
        "fruits=(\"mango\",\"litchi\",\"pineapple\")\n",
        "if (\"kiwi\" in fruits):\n",
        "  print(\"kiwi is present\")\n",
        "else: print('kiwi is not in fruits.')"
      ],
      "metadata": {
        "colab": {
          "base_uri": "https://localhost:8080/"
        },
        "id": "8FHiTfH-ejSY",
        "outputId": "75adf4f9-3701-4908-a227-225a749a472f"
      },
      "execution_count": 24,
      "outputs": [
        {
          "output_type": "stream",
          "name": "stdout",
          "text": [
            "kiwi is not in fruits.\n"
          ]
        }
      ]
    },
    {
      "cell_type": "code",
      "source": [
        "#Q. Write a code to create a set with the elements 'a', 'b', 'c' and print it.\n",
        "s={'a','b','c'}\n",
        "print(s)"
      ],
      "metadata": {
        "colab": {
          "base_uri": "https://localhost:8080/"
        },
        "id": "G0EZHOSLfHve",
        "outputId": "d7ae6f4f-f42c-4cab-ef5a-001c59b0ce62"
      },
      "execution_count": 27,
      "outputs": [
        {
          "output_type": "stream",
          "name": "stdout",
          "text": [
            "{'b', 'c', 'a'}\n"
          ]
        }
      ]
    },
    {
      "cell_type": "code",
      "source": [
        "# Q. Write a code to clear all elements from the set {1, 2, 3, 4, 5}.\n",
        "s={1,2,3,4,5}\n",
        "s.clear()\n",
        "print(s)"
      ],
      "metadata": {
        "colab": {
          "base_uri": "https://localhost:8080/"
        },
        "id": "tNeimQ92fQbN",
        "outputId": "e53ba25d-ac72-4f9f-c683-c39ba7527fc0"
      },
      "execution_count": 29,
      "outputs": [
        {
          "output_type": "stream",
          "name": "stdout",
          "text": [
            "set()\n"
          ]
        }
      ]
    },
    {
      "cell_type": "code",
      "source": [
        "# Q. Write a code to remove the element 4 from the set {1, 2, 3, 4}.\n",
        "s={1,2,3,4}\n",
        "s.remove(4)\n",
        "print(s)"
      ],
      "metadata": {
        "colab": {
          "base_uri": "https://localhost:8080/"
        },
        "id": "ulZ7rEB4fdOH",
        "outputId": "97ed53bf-c40f-4638-da5f-edcd1a20a2f8"
      },
      "execution_count": 30,
      "outputs": [
        {
          "output_type": "stream",
          "name": "stdout",
          "text": [
            "{1, 2, 3}\n"
          ]
        }
      ]
    },
    {
      "cell_type": "code",
      "source": [
        "#Q. Write a code to find the union of two sets {1, 2, 3} and {3, 4, 5}\n",
        "s1={1,2,3}\n",
        "s2={3,4,5}\n",
        "print(f'Union of {s1} and {s2} is {s1|s2}.')"
      ],
      "metadata": {
        "colab": {
          "base_uri": "https://localhost:8080/"
        },
        "id": "xgL6MYSFflTb",
        "outputId": "988ce6d6-0112-4e66-924a-523116c743df"
      },
      "execution_count": 31,
      "outputs": [
        {
          "output_type": "stream",
          "name": "stdout",
          "text": [
            "Union of {1, 2, 3} and {3, 4, 5} is {1, 2, 3, 4, 5}.\n"
          ]
        }
      ]
    },
    {
      "cell_type": "code",
      "source": [
        "#Q.Write a code to find the intersection of two sets {1, 2, 3} and {2, 3, 4}\n",
        "s1={1,2,3}\n",
        "s2={2,3,4}\n",
        "print(f'Intersection of {s1} and {s2} is {s1&s2}.')"
      ],
      "metadata": {
        "colab": {
          "base_uri": "https://localhost:8080/"
        },
        "id": "U4waRyvyf0dh",
        "outputId": "bf761f61-6adf-4ef2-a470-961888c6d94e"
      },
      "execution_count": 32,
      "outputs": [
        {
          "output_type": "stream",
          "name": "stdout",
          "text": [
            "Intersection of {1, 2, 3} and {2, 3, 4} is {2, 3}.\n"
          ]
        }
      ]
    },
    {
      "cell_type": "code",
      "source": [
        "#Q.Write a code to create a dictionary with the keys \"name\", \"age\", and \"city\", and print it\n",
        "d={}\n",
        "d=d.fromkeys([\"name\", \"age\",\"city\"])\n",
        "print(d)"
      ],
      "metadata": {
        "colab": {
          "base_uri": "https://localhost:8080/"
        },
        "id": "h2Vl_N92f_fX",
        "outputId": "97de0182-13e1-4f4b-bf03-7805610f75ad"
      },
      "execution_count": 37,
      "outputs": [
        {
          "output_type": "stream",
          "name": "stdout",
          "text": [
            "{'name': None, 'age': None, 'city': None}\n"
          ]
        }
      ]
    },
    {
      "cell_type": "code",
      "source": [
        "#Q.Write a code to add a new key-value pair \"country\": \"USA\" to the dictionary {'name': 'John', 'age': 25}\n",
        "d= {'name': 'John', 'age': 25}\n",
        "d[\"country\"]=\"USA\"\n",
        "print(d)"
      ],
      "metadata": {
        "colab": {
          "base_uri": "https://localhost:8080/"
        },
        "id": "xkku8JPcgPcx",
        "outputId": "f6f2aeac-4e5d-418d-db6a-e2e490e79411"
      },
      "execution_count": 38,
      "outputs": [
        {
          "output_type": "stream",
          "name": "stdout",
          "text": [
            "{'name': 'John', 'age': 25, 'country': 'USA'}\n"
          ]
        }
      ]
    },
    {
      "cell_type": "code",
      "source": [
        "#Q.  Write a code to access the value associated with the key \"name\" in the dictionary {'name': 'Alice', 'age': 30}\n",
        "d={'name': 'Alice', 'age': 30}\n",
        "print(d['name'])"
      ],
      "metadata": {
        "colab": {
          "base_uri": "https://localhost:8080/"
        },
        "id": "WDPA8D4bgkrZ",
        "outputId": "c1805bf7-7bef-450a-e981-7c0792a79438"
      },
      "execution_count": 39,
      "outputs": [
        {
          "output_type": "stream",
          "name": "stdout",
          "text": [
            "Alice\n"
          ]
        }
      ]
    },
    {
      "cell_type": "code",
      "source": [
        "#Q.Write a code to remove the key \"age\" from the dictionary {'name': 'Bob', 'age': 22, 'city': 'New York'}\n",
        "d={'name': 'Bob', 'age': 22, 'city': 'New York'}\n",
        "d.pop('age')\n",
        "print(d)"
      ],
      "metadata": {
        "colab": {
          "base_uri": "https://localhost:8080/"
        },
        "id": "cgCH3aL3gvTK",
        "outputId": "ddc61de2-9ac1-484b-9ab8-f69a1c70fa69"
      },
      "execution_count": 43,
      "outputs": [
        {
          "output_type": "stream",
          "name": "stdout",
          "text": [
            "{'name': 'Bob', 'city': 'New York'}\n"
          ]
        }
      ]
    },
    {
      "cell_type": "code",
      "source": [
        "#Q.Write a code to check if the key \"city\" exists in the dictionary {'name': 'Alice', 'city': 'Paris'}.\n",
        "d={'name': 'Alice', 'city': 'Paris'}\n",
        "if ('city' in d): print(\"Key city is present.\")\n",
        "else: print(\"Key city is not present\")"
      ],
      "metadata": {
        "colab": {
          "base_uri": "https://localhost:8080/"
        },
        "id": "wbKKTPaug5vb",
        "outputId": "d05e15e4-1ecb-451f-c2a5-c937c38c1352"
      },
      "execution_count": 44,
      "outputs": [
        {
          "output_type": "stream",
          "name": "stdout",
          "text": [
            "Key city is present.\n"
          ]
        }
      ]
    },
    {
      "cell_type": "code",
      "source": [
        "#Q. Write a code to create a list, a tuple, and a dictionary, and print them all.\n",
        "l=[1,2,3,4,5]\n",
        "tup=(1,2,3,4,5)\n",
        "d={1:'a',2:'b',3:'c'}\n",
        "print(f'List:{l}\\nTuple:{tup}\\nDictionary:{d}')"
      ],
      "metadata": {
        "colab": {
          "base_uri": "https://localhost:8080/"
        },
        "id": "sfOC7NCshThU",
        "outputId": "84ac3423-6f87-4360-cd0e-080df6d08549"
      },
      "execution_count": 48,
      "outputs": [
        {
          "output_type": "stream",
          "name": "stdout",
          "text": [
            "List:[1, 2, 3, 4, 5]\n",
            "Tuple:(1, 2, 3, 4, 5)\n",
            "Dictionary:{1: 'a', 2: 'b', 3: 'c'}\n"
          ]
        }
      ]
    },
    {
      "cell_type": "code",
      "source": [
        "#Q.Write a code to create a list of 5 random numbers between 1 and 100, sort it in ascending order, and print the result.(replaced)\n",
        "from random import*\n",
        "l=[]\n",
        "for i in range(5):\n",
        "  l.append(randint(1,100))\n",
        "print(f' Sorted list is {sorted(l)}.')"
      ],
      "metadata": {
        "colab": {
          "base_uri": "https://localhost:8080/"
        },
        "id": "FxN0hHovhyXA",
        "outputId": "4e2cd2e4-9013-4097-cc1b-b05bc59f2d4e"
      },
      "execution_count": 61,
      "outputs": [
        {
          "output_type": "stream",
          "name": "stdout",
          "text": [
            " Sorted list is [23, 28, 50, 73, 98].\n"
          ]
        }
      ]
    },
    {
      "cell_type": "code",
      "source": [
        "#Q.Write a code to create a list with strings and print the element at the third index.\n",
        "l=[\"mango\",\"litchi\",\"pineapple\",\"orange\",\"apple\"]\n",
        "print(l[3])"
      ],
      "metadata": {
        "colab": {
          "base_uri": "https://localhost:8080/"
        },
        "id": "LOreqdtuiWDd",
        "outputId": "9f487179-003e-4ef5-e24b-e6da7604377c"
      },
      "execution_count": 63,
      "outputs": [
        {
          "output_type": "stream",
          "name": "stdout",
          "text": [
            "orange\n"
          ]
        }
      ]
    },
    {
      "cell_type": "code",
      "source": [
        "#Q. Write a code to combine two dictionaries into one and print the result.\n",
        "d1={'Brand1':'Tesla','Year1':2025,'Sales1':2000}\n",
        "d2={'Brand2':'Mahindra','Year2':2025,'Sales2':30000}\n",
        "print(d1.update(d2))\n",
        "print(d1)"
      ],
      "metadata": {
        "colab": {
          "base_uri": "https://localhost:8080/"
        },
        "id": "JjcTcQwDjwf0",
        "outputId": "40fc4b6d-e982-4ebf-8df7-c16e9e1f9949"
      },
      "execution_count": 68,
      "outputs": [
        {
          "output_type": "stream",
          "name": "stdout",
          "text": [
            "None\n",
            "{'Brand1': 'Tesla', 'Year1': 2025, 'Sales1': 2000, 'Brand2': 'Mahindra', 'Year2': 2025, 'Sales2': 30000}\n"
          ]
        }
      ]
    },
    {
      "cell_type": "code",
      "source": [
        "#Q.  Write a code to convert a list of strings into a set.\n",
        "l=[\"mango\",\"litchi\",\"pineapple\",\"orange\",\"apple\"]\n",
        "print(f'After converting list: {l} \\ninto set we get {set(l)}.')"
      ],
      "metadata": {
        "colab": {
          "base_uri": "https://localhost:8080/"
        },
        "id": "AZ0c6a_ok6fU",
        "outputId": "96bcf58e-8cf3-479a-de88-804fde8d6fe4"
      },
      "execution_count": 72,
      "outputs": [
        {
          "output_type": "stream",
          "name": "stdout",
          "text": [
            "After converting list: ['mango', 'litchi', 'pineapple', 'orange', 'apple'] \n",
            "into set we get {'orange', 'mango', 'pineapple', 'litchi', 'apple'}.\n"
          ]
        }
      ]
    }
  ]
}